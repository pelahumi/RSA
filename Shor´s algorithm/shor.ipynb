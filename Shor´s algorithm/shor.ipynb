{
 "cells": [
  {
   "cell_type": "markdown",
   "id": "96b21886",
   "metadata": {},
   "source": [
    "# Algoritmo de Shor"
   ]
  },
  {
   "cell_type": "markdown",
   "id": "baea8f41",
   "metadata": {},
   "source": [
    "Antes de empezar con el desarrollo del algoritmo de Shor, importaremos las librerías y funciones necesarias:"
   ]
  },
  {
   "cell_type": "code",
   "execution_count": 2,
   "id": "0c6d5c21",
   "metadata": {},
   "outputs": [],
   "source": [
    "from qiskit import QuantumCircuit, transpile\n",
    "from qiskit.visualization import plot_histogram, plot_bloch_multivector\n",
    "import matplotlib.pyplot as plt\n",
    "import numpy as np"
   ]
  },
  {
   "cell_type": "code",
   "execution_count": 3,
   "id": "8affbba5",
   "metadata": {},
   "outputs": [],
   "source": [
    "def qft(n):\n",
    "    \"\"\"\n",
    "    Implementación de la Transformada de Fourier Cuántica (QFT) en un circuito cuántico de n qubits.\n",
    "\n",
    "    Args:\n",
    "        n (int): Número de qubits en el circuito cuántico.\n",
    "    Returns:\n",
    "        qc (QuantumCircuit): Circuito cuántico que implementa la QFT.\n",
    "    \"\"\"\n",
    "    # Creamos el circuito cuántico con n qubits\n",
    "    qc = QuantumCircuit(n) \n",
    "\n",
    "    # Aplicamos un bucle para recorrer los qubits en orden invers\n",
    "    for i in range(n-1, -1, -1):\n",
    "        # Aplicamos la puerta Hadamard a cada qubit\n",
    "        qc.h(i)\n",
    "\n",
    "        # Aplicamos otro bucle para tener en cuenta los qubits que están por encima del qubit actual\n",
    "        for j in range(i-1, -1, -1):\n",
    "            # Aplicamos la puerta CP \n",
    "            angle = np.pi / 2**(i - j)\n",
    "            qc.cp(angle, j, i)\n",
    "\n",
    "        # Aplicamos una barrera para separar las operaciones\n",
    "        qc.barrier(range(n))\n",
    "    \n",
    "    for i in range(n // 2):\n",
    "        # Aplicamos la compuerta SWAP para intercambiar los qubits\n",
    "        qc.swap(i, n - i - 1)\n",
    "    \n",
    "    # Hacemos que sea una puerta cuántica\n",
    "    gate = qc.to_gate()\n",
    "    gate.name = \"QFT\"\n",
    "\n",
    "    return gate"
   ]
  },
  {
   "cell_type": "markdown",
   "id": "c0f908f8",
   "metadata": {},
   "source": []
  }
 ],
 "metadata": {
  "kernelspec": {
   "display_name": "quantum",
   "language": "python",
   "name": "python3"
  },
  "language_info": {
   "codemirror_mode": {
    "name": "ipython",
    "version": 3
   },
   "file_extension": ".py",
   "mimetype": "text/x-python",
   "name": "python",
   "nbconvert_exporter": "python",
   "pygments_lexer": "ipython3",
   "version": "3.10.16"
  }
 },
 "nbformat": 4,
 "nbformat_minor": 5
}
